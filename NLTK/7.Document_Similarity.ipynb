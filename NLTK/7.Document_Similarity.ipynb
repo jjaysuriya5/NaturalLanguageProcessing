{
 "cells": [
  {
   "cell_type": "markdown",
   "metadata": {},
   "source": [
    "Document similarity:\n",
    "\n",
    "A commonly used approach to match similar documents is based on counting the maximum number of common words between the documents. But this approach has an inherent flaw. That is, as the size of the document increases, the number of common words tend to increase even if the documents talk about different topics.\n",
    "\n",
    "The cosine similarity helps overcome this fundamental flaw in the 'count-the-common-words' or Euclidean distance approach.\n",
    "\n",
    "What is Cosine Similarity and why is it advantageous?\n",
    "\n",
    "Cosine similarity is a metric used to determine how similar the documents are irrespective of their size.\n",
    "\n",
    "Mathematically, it measures the cosine of the angle between two vectors projected in a multi-dimensional space. \n",
    "\n",
    "This metric is a measurement of orientation and not magnitude.\n",
    "The two vectors I am talking about are arrays containing the word counts of two documents.\n",
    "\n",
    "The cosine similarity is advantageous because even if the two similar documents are far apart by the Euclidean distance because of the size (like, the word 'cricket' appeared 50 times in one document and 10 times in another) they could still have a smaller angle between them. \n",
    "\n",
    "Smaller the angle, higher the similarity.\n",
    "\n",
    "Two documents are similar if all the words are same in both the documents"
   ]
  },
  {
   "cell_type": "code",
   "execution_count": 16,
   "metadata": {},
   "outputs": [],
   "source": [
    "doc_trump = \"Mr. Trump became president after winning the political election. \\\n",
    "Though he lost the support of some republican friends, Trump is friends with President Putin\"\n",
    "\n",
    "doc_election = \"President Trump says Putin had no political interference in the election outcome.\\\n",
    "He says it was a witchhunt by political parties. \\\n",
    "He claimed President Putin is a friend who had nothing to do with the election\"\n",
    "\n",
    "doc_putin = \"Post elections, Vladimir Putin became President of Russia.\\\n",
    "President Putin had served as the Prime Minister earlier in his political career\""
   ]
  },
  {
   "cell_type": "code",
   "execution_count": 17,
   "metadata": {},
   "outputs": [],
   "source": [
    "documents = [ doc_trump , doc_election , doc_putin ]"
   ]
  },
  {
   "cell_type": "code",
   "execution_count": 18,
   "metadata": {},
   "outputs": [],
   "source": [
    "import pandas as pd\n",
    "import numpy as np\n",
    "\n",
    "import nltk\n",
    "from sklearn.feature_extraction.text import CountVectorizer"
   ]
  },
  {
   "cell_type": "code",
   "execution_count": 19,
   "metadata": {},
   "outputs": [],
   "source": [
    "count_vect = CountVectorizer( stop_words = 'english' )\n",
    "\n",
    "X = count_vect.fit_transform( documents )"
   ]
  },
  {
   "cell_type": "code",
   "execution_count": 20,
   "metadata": {},
   "outputs": [
    {
     "data": {
      "text/html": [
       "<div>\n",
       "<style scoped>\n",
       "    .dataframe tbody tr th:only-of-type {\n",
       "        vertical-align: middle;\n",
       "    }\n",
       "\n",
       "    .dataframe tbody tr th {\n",
       "        vertical-align: top;\n",
       "    }\n",
       "\n",
       "    .dataframe thead th {\n",
       "        text-align: right;\n",
       "    }\n",
       "</style>\n",
       "<table border=\"1\" class=\"dataframe\">\n",
       "  <thead>\n",
       "    <tr style=\"text-align: right;\">\n",
       "      <th></th>\n",
       "      <th>career</th>\n",
       "      <th>claimed</th>\n",
       "      <th>earlier</th>\n",
       "      <th>election</th>\n",
       "      <th>elections</th>\n",
       "      <th>friend</th>\n",
       "      <th>friends</th>\n",
       "      <th>interference</th>\n",
       "      <th>lost</th>\n",
       "      <th>minister</th>\n",
       "      <th>...</th>\n",
       "      <th>putin</th>\n",
       "      <th>republican</th>\n",
       "      <th>russia</th>\n",
       "      <th>says</th>\n",
       "      <th>served</th>\n",
       "      <th>support</th>\n",
       "      <th>trump</th>\n",
       "      <th>vladimir</th>\n",
       "      <th>winning</th>\n",
       "      <th>witchhunt</th>\n",
       "    </tr>\n",
       "  </thead>\n",
       "  <tbody>\n",
       "    <tr>\n",
       "      <th>doc_trump</th>\n",
       "      <td>0</td>\n",
       "      <td>0</td>\n",
       "      <td>0</td>\n",
       "      <td>1</td>\n",
       "      <td>0</td>\n",
       "      <td>0</td>\n",
       "      <td>2</td>\n",
       "      <td>0</td>\n",
       "      <td>1</td>\n",
       "      <td>0</td>\n",
       "      <td>...</td>\n",
       "      <td>1</td>\n",
       "      <td>1</td>\n",
       "      <td>0</td>\n",
       "      <td>0</td>\n",
       "      <td>0</td>\n",
       "      <td>1</td>\n",
       "      <td>2</td>\n",
       "      <td>0</td>\n",
       "      <td>1</td>\n",
       "      <td>0</td>\n",
       "    </tr>\n",
       "    <tr>\n",
       "      <th>dec_election</th>\n",
       "      <td>0</td>\n",
       "      <td>1</td>\n",
       "      <td>0</td>\n",
       "      <td>2</td>\n",
       "      <td>0</td>\n",
       "      <td>1</td>\n",
       "      <td>0</td>\n",
       "      <td>1</td>\n",
       "      <td>0</td>\n",
       "      <td>0</td>\n",
       "      <td>...</td>\n",
       "      <td>2</td>\n",
       "      <td>0</td>\n",
       "      <td>0</td>\n",
       "      <td>2</td>\n",
       "      <td>0</td>\n",
       "      <td>0</td>\n",
       "      <td>1</td>\n",
       "      <td>0</td>\n",
       "      <td>0</td>\n",
       "      <td>1</td>\n",
       "    </tr>\n",
       "    <tr>\n",
       "      <th>doc_putin</th>\n",
       "      <td>1</td>\n",
       "      <td>0</td>\n",
       "      <td>1</td>\n",
       "      <td>0</td>\n",
       "      <td>1</td>\n",
       "      <td>0</td>\n",
       "      <td>0</td>\n",
       "      <td>0</td>\n",
       "      <td>0</td>\n",
       "      <td>1</td>\n",
       "      <td>...</td>\n",
       "      <td>2</td>\n",
       "      <td>0</td>\n",
       "      <td>1</td>\n",
       "      <td>0</td>\n",
       "      <td>1</td>\n",
       "      <td>0</td>\n",
       "      <td>0</td>\n",
       "      <td>1</td>\n",
       "      <td>0</td>\n",
       "      <td>0</td>\n",
       "    </tr>\n",
       "  </tbody>\n",
       "</table>\n",
       "<p>3 rows × 27 columns</p>\n",
       "</div>"
      ],
      "text/plain": [
       "              career  claimed  earlier  election  elections  friend  friends  \\\n",
       "doc_trump          0        0        0         1          0       0        2   \n",
       "dec_election       0        1        0         2          0       1        0   \n",
       "doc_putin          1        0        1         0          1       0        0   \n",
       "\n",
       "              interference  lost  minister  ...  putin  republican  russia  \\\n",
       "doc_trump                0     1         0  ...      1           1       0   \n",
       "dec_election             1     0         0  ...      2           0       0   \n",
       "doc_putin                0     0         1  ...      2           0       1   \n",
       "\n",
       "              says  served  support  trump  vladimir  winning  witchhunt  \n",
       "doc_trump        0       0        1      2         0        1          0  \n",
       "dec_election     2       0        0      1         0        0          1  \n",
       "doc_putin        0       1        0      0         1        0          0  \n",
       "\n",
       "[3 rows x 27 columns]"
      ]
     },
     "execution_count": 20,
     "metadata": {},
     "output_type": "execute_result"
    }
   ],
   "source": [
    "df = pd.DataFrame( X.toarray() , columns = count_vect.get_feature_names() , \n",
    "                 index = ['doc_trump' , 'dec_election' , 'doc_putin'])\n",
    "df"
   ]
  },
  {
   "cell_type": "code",
   "execution_count": 21,
   "metadata": {},
   "outputs": [],
   "source": [
    "from sklearn.metrics.pairwise import cosine_similarity"
   ]
  },
  {
   "cell_type": "code",
   "execution_count": 61,
   "metadata": {},
   "outputs": [
    {
     "data": {
      "text/plain": [
       "array([[0.        , 0.51639778, 0.36893239],\n",
       "       [0.51639778, 0.        , 0.45360921],\n",
       "       [0.36893239, 0.45360921, 0.        ]])"
      ]
     },
     "execution_count": 61,
     "metadata": {},
     "output_type": "execute_result"
    }
   ],
   "source": [
    "doc_sim = cosine_similarity( df )\n",
    "\n",
    "np.fill_diagonal( doc_sim , 0 ) \n",
    "\n",
    "# doc_sim [ np.diag_indices( 3 )  ] = 0 \n",
    "# doc_sim\n",
    "\n",
    "# doc_sim - np.diag( np.diag( doc_sim )  )\n",
    "\n",
    "# doc_sim - np.eye( doc_sim.shape[0] )\n",
    "\n",
    "# 1 > 1 , 2, 3 ..\n",
    "# 2 > 1 ,2 , 3 ...\n",
    "\n",
    "doc_sim"
   ]
  },
  {
   "cell_type": "code",
   "execution_count": 65,
   "metadata": {},
   "outputs": [
    {
     "name": "stdout",
     "output_type": "stream",
     "text": [
      "doc_trump is simillar to the document dec_election\n",
      "\n",
      "dec_election is simillar to the document doc_trump\n",
      "\n",
      "doc_putin is simillar to the document dec_election\n",
      "\n"
     ]
    }
   ],
   "source": [
    "row_index = ['doc_trump' , 'dec_election' , 'doc_putin'] \n",
    "col_index = ['doc_trump' , 'dec_election' , 'doc_putin']\n",
    "\n",
    "max_similarity = np.argmax( doc_sim , axis = 1 ) \n",
    "for i in range( 0 , len(max_similarity) ) :\n",
    "    print( row_index[i] +  ' is simillar to the document ' +  col_index[max_similarity[i]] )\n",
    "    print()"
   ]
  },
  {
   "cell_type": "code",
   "execution_count": 69,
   "metadata": {},
   "outputs": [
    {
     "name": "stdout",
     "output_type": "stream",
     "text": [
      "[[0 2 1]\n",
      " [1 2 0]\n",
      " [2 0 1]]\n",
      "\n",
      "[[1 2 0]\n",
      " [0 2 1]\n",
      " [1 0 2]]\n"
     ]
    }
   ],
   "source": [
    "print( np.argsort( doc_sim , axis = 1 ) )\n",
    "print()\n",
    "print( np.argsort( doc_sim , axis = 1 )[ : , : : -1] )"
   ]
  },
  {
   "cell_type": "code",
   "execution_count": 76,
   "metadata": {},
   "outputs": [
    {
     "data": {
      "text/plain": [
       "array([[0.        , 0.51639778, 0.36893239],\n",
       "       [0.51639778, 0.        , 0.45360921],\n",
       "       [0.36893239, 0.45360921, 0.        ]])"
      ]
     },
     "execution_count": 76,
     "metadata": {},
     "output_type": "execute_result"
    }
   ],
   "source": [
    "doc_sim"
   ]
  },
  {
   "cell_type": "code",
   "execution_count": 82,
   "metadata": {},
   "outputs": [
    {
     "name": "stdout",
     "output_type": "stream",
     "text": [
      "doc_trump is simillar to the document dec_election\n",
      "\n",
      "dec_election is simillar to the document doc_trump\n",
      "\n",
      "doc_putin is simillar to the document dec_election\n",
      "\n"
     ]
    }
   ],
   "source": [
    "n_max_similarity = np.argsort( doc_sim , axis = 1 )[ : , : : -1]\n",
    "n = 1\n",
    "\n",
    "for i in range( 0 , len(row_index) ) :\n",
    "    sim_doc = ''\n",
    "    for j in n_max_similarity[ i , : n ]:\n",
    "        sim_doc = sim_doc + col_index[j] + ',' \n",
    "        \n",
    "    sim_doc = sim_doc[ : -1] \n",
    "    print( row_index[i] +  ' is simillar to the document ' +  sim_doc )\n",
    "    print()"
   ]
  },
  {
   "cell_type": "code",
   "execution_count": null,
   "metadata": {},
   "outputs": [],
   "source": [
    "# Similarity between the words acorss the corpus , \n",
    "# co-occurrence of "
   ]
  },
  {
   "cell_type": "code",
   "execution_count": 87,
   "metadata": {},
   "outputs": [],
   "source": [
    "sim_mat = cosine_similarity( df.T )\n",
    "sim_mat = pd.DataFrame(  sim_mat , columns = df.columns , index = df.columns )\n",
    "\n"
   ]
  },
  {
   "cell_type": "code",
   "execution_count": 88,
   "metadata": {},
   "outputs": [
    {
     "data": {
      "text/html": [
       "<div>\n",
       "<style scoped>\n",
       "    .dataframe tbody tr th:only-of-type {\n",
       "        vertical-align: middle;\n",
       "    }\n",
       "\n",
       "    .dataframe tbody tr th {\n",
       "        vertical-align: top;\n",
       "    }\n",
       "\n",
       "    .dataframe thead th {\n",
       "        text-align: right;\n",
       "    }\n",
       "</style>\n",
       "<table border=\"1\" class=\"dataframe\">\n",
       "  <thead>\n",
       "    <tr style=\"text-align: right;\">\n",
       "      <th></th>\n",
       "      <th>career</th>\n",
       "      <th>claimed</th>\n",
       "      <th>earlier</th>\n",
       "      <th>election</th>\n",
       "      <th>elections</th>\n",
       "      <th>friend</th>\n",
       "      <th>friends</th>\n",
       "      <th>interference</th>\n",
       "      <th>lost</th>\n",
       "      <th>minister</th>\n",
       "      <th>...</th>\n",
       "      <th>putin</th>\n",
       "      <th>republican</th>\n",
       "      <th>russia</th>\n",
       "      <th>says</th>\n",
       "      <th>served</th>\n",
       "      <th>support</th>\n",
       "      <th>trump</th>\n",
       "      <th>vladimir</th>\n",
       "      <th>winning</th>\n",
       "      <th>witchhunt</th>\n",
       "    </tr>\n",
       "  </thead>\n",
       "  <tbody>\n",
       "    <tr>\n",
       "      <th>career</th>\n",
       "      <td>1.0</td>\n",
       "      <td>0.0</td>\n",
       "      <td>1.0</td>\n",
       "      <td>0.0</td>\n",
       "      <td>1.0</td>\n",
       "      <td>0.0</td>\n",
       "      <td>0.0</td>\n",
       "      <td>0.0</td>\n",
       "      <td>0.0</td>\n",
       "      <td>1.0</td>\n",
       "      <td>...</td>\n",
       "      <td>0.666667</td>\n",
       "      <td>0.0</td>\n",
       "      <td>1.0</td>\n",
       "      <td>0.0</td>\n",
       "      <td>1.0</td>\n",
       "      <td>0.0</td>\n",
       "      <td>0.0</td>\n",
       "      <td>1.0</td>\n",
       "      <td>0.0</td>\n",
       "      <td>0.0</td>\n",
       "    </tr>\n",
       "  </tbody>\n",
       "</table>\n",
       "<p>1 rows × 27 columns</p>\n",
       "</div>"
      ],
      "text/plain": [
       "        career  claimed  earlier  election  elections  friend  friends  \\\n",
       "career     1.0      0.0      1.0       0.0        1.0     0.0      0.0   \n",
       "\n",
       "        interference  lost  minister  ...     putin  republican  russia  says  \\\n",
       "career           0.0   0.0       1.0  ...  0.666667         0.0     1.0   0.0   \n",
       "\n",
       "        served  support  trump  vladimir  winning  witchhunt  \n",
       "career     1.0      0.0    0.0       1.0      0.0        0.0  \n",
       "\n",
       "[1 rows x 27 columns]"
      ]
     },
     "execution_count": 88,
     "metadata": {},
     "output_type": "execute_result"
    }
   ],
   "source": [
    "sim_mat.head(1)"
   ]
  },
  {
   "cell_type": "code",
   "execution_count": 112,
   "metadata": {},
   "outputs": [
    {
     "name": "stdout",
     "output_type": "stream",
     "text": [
      "[1.         0.         1.         0.         1.         0.\n",
      " 0.         0.         0.         1.         0.         0.\n",
      " 0.         0.40824829 1.         0.57735027 1.         0.66666667\n",
      " 0.         1.         0.         1.         0.         0.\n",
      " 1.         0.         0.        ]\n"
     ]
    }
   ],
   "source": [
    "# print( sim_mat.loc['career' , :].values )\n",
    "\n",
    "# print( sim_mat.loc['career' , :].index )\n",
    "\n",
    "# a = list( zip( sim_mat.loc['career' , :].values  , sim_mat.loc['career' , :].index ) )\n",
    "# print( a )\n",
    "\n",
    "# print( sorted( a , key  = lambda x : ( x[0] , x[1] ) )  )\n",
    "print( sim_mat.loc['career' , :].values )"
   ]
  },
  {
   "cell_type": "code",
   "execution_count": 102,
   "metadata": {},
   "outputs": [
    {
     "data": {
      "text/plain": [
       "array([ 0, 24,  2,  4, 21,  9, 19, 14, 16, 17, 15, 13, 18, 25, 12, 11, 10,\n",
       "       20,  8,  7,  6,  5, 22,  3, 23,  1, 26], dtype=int64)"
      ]
     },
     "execution_count": 102,
     "metadata": {},
     "output_type": "execute_result"
    }
   ],
   "source": [
    " np.argsort( sim_mat.loc['career' , :].values )[ : : -1]"
   ]
  },
  {
   "cell_type": "code",
   "execution_count": 116,
   "metadata": {},
   "outputs": [],
   "source": [
    "from sklearn.feature_extraction.text import TfidfVectorizer\n",
    "\n",
    "tfidf_vect = TfidfVectorizer( stop_words = 'english' )\n",
    "\n",
    "X1 = tfidf_vect.fit_transform( documents )"
   ]
  },
  {
   "cell_type": "code",
   "execution_count": 118,
   "metadata": {},
   "outputs": [
    {
     "data": {
      "text/html": [
       "<div>\n",
       "<style scoped>\n",
       "    .dataframe tbody tr th:only-of-type {\n",
       "        vertical-align: middle;\n",
       "    }\n",
       "\n",
       "    .dataframe tbody tr th {\n",
       "        vertical-align: top;\n",
       "    }\n",
       "\n",
       "    .dataframe thead th {\n",
       "        text-align: right;\n",
       "    }\n",
       "</style>\n",
       "<table border=\"1\" class=\"dataframe\">\n",
       "  <thead>\n",
       "    <tr style=\"text-align: right;\">\n",
       "      <th></th>\n",
       "      <th>career</th>\n",
       "      <th>claimed</th>\n",
       "      <th>earlier</th>\n",
       "      <th>election</th>\n",
       "      <th>elections</th>\n",
       "      <th>friend</th>\n",
       "      <th>friends</th>\n",
       "      <th>interference</th>\n",
       "      <th>lost</th>\n",
       "      <th>minister</th>\n",
       "      <th>...</th>\n",
       "      <th>putin</th>\n",
       "      <th>republican</th>\n",
       "      <th>russia</th>\n",
       "      <th>says</th>\n",
       "      <th>served</th>\n",
       "      <th>support</th>\n",
       "      <th>trump</th>\n",
       "      <th>vladimir</th>\n",
       "      <th>winning</th>\n",
       "      <th>witchhunt</th>\n",
       "    </tr>\n",
       "  </thead>\n",
       "  <tbody>\n",
       "    <tr>\n",
       "      <th>doc_trump</th>\n",
       "      <td>0.000000</td>\n",
       "      <td>0.000000</td>\n",
       "      <td>0.000000</td>\n",
       "      <td>0.203368</td>\n",
       "      <td>0.000000</td>\n",
       "      <td>0.000000</td>\n",
       "      <td>0.53481</td>\n",
       "      <td>0.000000</td>\n",
       "      <td>0.267405</td>\n",
       "      <td>0.000000</td>\n",
       "      <td>...</td>\n",
       "      <td>0.157934</td>\n",
       "      <td>0.267405</td>\n",
       "      <td>0.000000</td>\n",
       "      <td>0.000000</td>\n",
       "      <td>0.000000</td>\n",
       "      <td>0.267405</td>\n",
       "      <td>0.406737</td>\n",
       "      <td>0.000000</td>\n",
       "      <td>0.267405</td>\n",
       "      <td>0.000000</td>\n",
       "    </tr>\n",
       "    <tr>\n",
       "      <th>dec_election</th>\n",
       "      <td>0.000000</td>\n",
       "      <td>0.241982</td>\n",
       "      <td>0.000000</td>\n",
       "      <td>0.368067</td>\n",
       "      <td>0.000000</td>\n",
       "      <td>0.241982</td>\n",
       "      <td>0.00000</td>\n",
       "      <td>0.241982</td>\n",
       "      <td>0.000000</td>\n",
       "      <td>0.000000</td>\n",
       "      <td>...</td>\n",
       "      <td>0.285837</td>\n",
       "      <td>0.000000</td>\n",
       "      <td>0.000000</td>\n",
       "      <td>0.483963</td>\n",
       "      <td>0.000000</td>\n",
       "      <td>0.000000</td>\n",
       "      <td>0.184033</td>\n",
       "      <td>0.000000</td>\n",
       "      <td>0.000000</td>\n",
       "      <td>0.241982</td>\n",
       "    </tr>\n",
       "    <tr>\n",
       "      <th>doc_putin</th>\n",
       "      <td>0.287012</td>\n",
       "      <td>0.000000</td>\n",
       "      <td>0.287012</td>\n",
       "      <td>0.000000</td>\n",
       "      <td>0.287012</td>\n",
       "      <td>0.000000</td>\n",
       "      <td>0.00000</td>\n",
       "      <td>0.000000</td>\n",
       "      <td>0.000000</td>\n",
       "      <td>0.287012</td>\n",
       "      <td>...</td>\n",
       "      <td>0.339028</td>\n",
       "      <td>0.000000</td>\n",
       "      <td>0.287012</td>\n",
       "      <td>0.000000</td>\n",
       "      <td>0.287012</td>\n",
       "      <td>0.000000</td>\n",
       "      <td>0.000000</td>\n",
       "      <td>0.287012</td>\n",
       "      <td>0.000000</td>\n",
       "      <td>0.000000</td>\n",
       "    </tr>\n",
       "  </tbody>\n",
       "</table>\n",
       "<p>3 rows × 27 columns</p>\n",
       "</div>"
      ],
      "text/plain": [
       "                career   claimed   earlier  election  elections    friend  \\\n",
       "doc_trump     0.000000  0.000000  0.000000  0.203368   0.000000  0.000000   \n",
       "dec_election  0.000000  0.241982  0.000000  0.368067   0.000000  0.241982   \n",
       "doc_putin     0.287012  0.000000  0.287012  0.000000   0.287012  0.000000   \n",
       "\n",
       "              friends  interference      lost  minister  ...     putin  \\\n",
       "doc_trump     0.53481      0.000000  0.267405  0.000000  ...  0.157934   \n",
       "dec_election  0.00000      0.241982  0.000000  0.000000  ...  0.285837   \n",
       "doc_putin     0.00000      0.000000  0.000000  0.287012  ...  0.339028   \n",
       "\n",
       "              republican    russia      says    served   support     trump  \\\n",
       "doc_trump       0.267405  0.000000  0.000000  0.000000  0.267405  0.406737   \n",
       "dec_election    0.000000  0.000000  0.483963  0.000000  0.000000  0.184033   \n",
       "doc_putin       0.000000  0.287012  0.000000  0.287012  0.000000  0.000000   \n",
       "\n",
       "              vladimir   winning  witchhunt  \n",
       "doc_trump     0.000000  0.267405   0.000000  \n",
       "dec_election  0.000000  0.000000   0.241982  \n",
       "doc_putin     0.287012  0.000000   0.000000  \n",
       "\n",
       "[3 rows x 27 columns]"
      ]
     },
     "execution_count": 118,
     "metadata": {},
     "output_type": "execute_result"
    }
   ],
   "source": [
    "df1 = pd.DataFrame( X1.toarray() , columns = tfidf_vect.get_feature_names() , \n",
    "                 index = ['doc_trump' , 'dec_election' , 'doc_putin'])\n",
    "df1"
   ]
  },
  {
   "cell_type": "code",
   "execution_count": 134,
   "metadata": {},
   "outputs": [
    {
     "data": {
      "text/plain": [
       "doc_trump       0.000000\n",
       "dec_election    0.000000\n",
       "doc_putin       0.287012\n",
       "Name: career, dtype: float64"
      ]
     },
     "execution_count": 134,
     "metadata": {},
     "output_type": "execute_result"
    }
   ],
   "source": [
    "df1['career']"
   ]
  },
  {
   "cell_type": "code",
   "execution_count": 131,
   "metadata": {},
   "outputs": [
    {
     "data": {
      "text/plain": [
       "array([[0.        , 1.        , 0.        , 1.        , 0.        ,\n",
       "        0.        , 0.        , 0.        , 1.        , 0.        ,\n",
       "        0.        , 0.        , 0.46071001, 1.        , 0.6227101 ,\n",
       "        1.        , 0.72021969, 0.        , 1.        , 0.        ,\n",
       "        1.        , 0.        , 0.        , 1.        , 0.        ,\n",
       "        0.        ]])"
      ]
     },
     "execution_count": 131,
     "metadata": {},
     "output_type": "execute_result"
    }
   ],
   "source": [
    "sim_tf = cosine_similarity( df1.T.loc[['career'] , : ] , df1.T.drop( 'career' ) )\n",
    "sim_tf"
   ]
  },
  {
   "cell_type": "code",
   "execution_count": null,
   "metadata": {},
   "outputs": [],
   "source": [
    "sim_tf"
   ]
  },
  {
   "cell_type": "code",
   "execution_count": null,
   "metadata": {},
   "outputs": [],
   "source": [
    "def get_similar_words( ):\n",
    "    \n",
    "    "
   ]
  }
 ],
 "metadata": {
  "kernelspec": {
   "display_name": "Python 3",
   "language": "python",
   "name": "python3"
  },
  "language_info": {
   "codemirror_mode": {
    "name": "ipython",
    "version": 3
   },
   "file_extension": ".py",
   "mimetype": "text/x-python",
   "name": "python",
   "nbconvert_exporter": "python",
   "pygments_lexer": "ipython3",
   "version": "3.7.3"
  }
 },
 "nbformat": 4,
 "nbformat_minor": 2
}
