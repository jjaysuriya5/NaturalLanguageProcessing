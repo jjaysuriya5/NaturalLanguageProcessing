{
 "cells": [
  {
   "cell_type": "markdown",
   "metadata": {},
   "source": [
    "Text cleaning techniques:\n",
    "1. Normalizing text -  case normaization\n",
    "2. Tokenize - taking the smallest part of the text\n",
    "    word_tokenize(), wordpunct_tokenize(), tweettokenizer, regexp_tokenize\n",
    "3. Removing stop words and punctuations\n",
    "    stop words are connectors which add no value to my analysis\n",
    "4. Stemming and lemmetization -> takes the words to its root form"
   ]
  },
  {
   "cell_type": "markdown",
   "metadata": {},
   "source": [
    "#### Case Normalization"
   ]
  },
  {
   "cell_type": "code",
   "execution_count": 1,
   "metadata": {},
   "outputs": [
    {
     "data": {
      "text/plain": [
       "'hi welcome to the course on text analytics.text analytics is a very important course'"
      ]
     },
     "execution_count": 1,
     "metadata": {},
     "output_type": "execute_result"
    }
   ],
   "source": [
    "txt = \"Hi welcome to the course on Text Analytics.\\\n",
    "text analytics is a very important course\"\n",
    "text = txt.lower()\n",
    "text"
   ]
  },
  {
   "cell_type": "markdown",
   "metadata": {},
   "source": [
    "#### Tokenization"
   ]
  },
  {
   "cell_type": "markdown",
   "metadata": {},
   "source": [
    "Tokens can be:\n",
    "    1. words or pairs of words\n",
    "    2. sentences\n",
    "    3. paragraphs"
   ]
  },
  {
   "cell_type": "code",
   "execution_count": 12,
   "metadata": {},
   "outputs": [
    {
     "name": "stdout",
     "output_type": "stream",
     "text": [
      "['This', 'hotel', 'is', 'awesome.', \"isn't\", 'it?', 'it', \"couldn't\", 'have', 'been', 'a', 'better', 'place', 'than', 'this', 'is@t']\n"
     ]
    }
   ],
   "source": [
    "txt = \"This hotel is awesome. isn't it? \\\n",
    "it couldn't have been a better place than this is@t\"\n",
    "print(txt.split())"
   ]
  },
  {
   "cell_type": "code",
   "execution_count": 30,
   "metadata": {},
   "outputs": [],
   "source": [
    "import nltk\n",
    "# nltk.download('punkt')"
   ]
  },
  {
   "cell_type": "code",
   "execution_count": 3,
   "metadata": {},
   "outputs": [],
   "source": [
    "from nltk.tokenize import word_tokenize"
   ]
  },
  {
   "cell_type": "code",
   "execution_count": 13,
   "metadata": {},
   "outputs": [
    {
     "name": "stdout",
     "output_type": "stream",
     "text": [
      "['This', 'hotel', 'is', 'awesome', '.', 'is', \"n't\", 'it', '?', 'it', 'could', \"n't\", 'have', 'been', 'a', 'better', 'place', 'than', 'this', 'is', '@', 't']\n"
     ]
    }
   ],
   "source": [
    "print(word_tokenize(txt))"
   ]
  },
  {
   "cell_type": "code",
   "execution_count": 7,
   "metadata": {},
   "outputs": [],
   "source": [
    "from nltk.tokenize import wordpunct_tokenize"
   ]
  },
  {
   "cell_type": "code",
   "execution_count": 11,
   "metadata": {},
   "outputs": [
    {
     "name": "stdout",
     "output_type": "stream",
     "text": [
      "['This', 'hotel', 'is', 'awesome', ',', 'isn', \"'\", 't', 'it', '?', 'it', 'couldn', \"'\", 't', 'have', 'been', 'a', 'better', 'place', 'than', 'this', 'is', '@', 't']\n"
     ]
    }
   ],
   "source": [
    "print(wordpunct_tokenize(txt))"
   ]
  },
  {
   "cell_type": "code",
   "execution_count": 15,
   "metadata": {},
   "outputs": [
    {
     "name": "stdout",
     "output_type": "stream",
     "text": [
      "['LAMO', '#', 'killing', 'it', ',', 'luv', 'is', \"n't\", 'mah', 'lyf', 'YOLO', 'LOL', ':', '-', ')', '<', '3', '@', 'raju']\n",
      "['LAMO', '#', 'killing', 'it', ',', 'luv', 'isn', \"'\", 't', 'mah', 'lyf', 'YOLO', 'LOL', ':-)', ':', 'D', '<', '3', '@', 'raju']\n"
     ]
    }
   ],
   "source": [
    "txt = \"LAMO #killing it, luv isn't mah lyf YOLO LOL :-) <3 @raju\"\n",
    "print(word_tokenize(txt))\n",
    "\n",
    "txt = \"LAMO #killing it, luv isn't mah lyf YOLO LOL :-) :D <3 @raju\"\n",
    "print(wordpunct_tokenize(txt))"
   ]
  },
  {
   "cell_type": "code",
   "execution_count": 18,
   "metadata": {},
   "outputs": [],
   "source": [
    "from nltk.tokenize import TweetTokenizer"
   ]
  },
  {
   "cell_type": "code",
   "execution_count": 19,
   "metadata": {},
   "outputs": [],
   "source": [
    "tokenizer = TweetTokenizer()"
   ]
  },
  {
   "cell_type": "code",
   "execution_count": 20,
   "metadata": {},
   "outputs": [
    {
     "name": "stdout",
     "output_type": "stream",
     "text": [
      "['LAMO', '#killing', 'it', ',', 'luv', \"isn't\", 'mah', 'lyf', 'YOLO', 'LOL', ':-)', ':D', '<3', '@raju']\n"
     ]
    }
   ],
   "source": [
    "print(tokenizer.tokenize(txt))"
   ]
  },
  {
   "cell_type": "code",
   "execution_count": 21,
   "metadata": {},
   "outputs": [],
   "source": [
    "txt = \"Living life king size #chilling #lifegoals #yolo #wanderlust @jay suriya @j\""
   ]
  },
  {
   "cell_type": "code",
   "execution_count": 22,
   "metadata": {},
   "outputs": [],
   "source": [
    "from nltk.tokenize import regexp_tokenize"
   ]
  },
  {
   "cell_type": "code",
   "execution_count": 23,
   "metadata": {},
   "outputs": [
    {
     "name": "stdout",
     "output_type": "stream",
     "text": [
      "['chilling', 'lifegoals', 'yolo', 'wanderlust', 'jay', 'j']\n"
     ]
    }
   ],
   "source": [
    "#Extract all the hashtags\n",
    "print(regexp_tokenize(txt,'[#@]([\\w]+)'))"
   ]
  },
  {
   "cell_type": "code",
   "execution_count": 24,
   "metadata": {},
   "outputs": [
    {
     "name": "stdout",
     "output_type": "stream",
     "text": [
      "['chilling', 'lifegoals', 'yolo', 'wanderlust']\n"
     ]
    }
   ],
   "source": [
    "#Extract only the words associated with the hashtags\n",
    "print(regexp_tokenize(txt,'#([\\w]+)'))"
   ]
  },
  {
   "cell_type": "code",
   "execution_count": 43,
   "metadata": {},
   "outputs": [],
   "source": [
    "from string import punctuation"
   ]
  },
  {
   "cell_type": "code",
   "execution_count": 44,
   "metadata": {},
   "outputs": [],
   "source": [
    "from nltk.corpus import stopwords"
   ]
  },
  {
   "cell_type": "code",
   "execution_count": 45,
   "metadata": {},
   "outputs": [],
   "source": [
    "stop_nltk = stopwords.words(\"english\")"
   ]
  },
  {
   "cell_type": "code",
   "execution_count": 46,
   "metadata": {},
   "outputs": [
    {
     "name": "stdout",
     "output_type": "stream",
     "text": [
      "['i', 'me', 'my', 'myself', 'we', 'our', 'ours', 'ourselves', 'you', \"you're\", \"you've\", \"you'll\", \"you'd\", 'your', 'yours', 'yourself', 'yourselves', 'he', 'him', 'his', 'himself', 'she', \"she's\", 'her', 'hers', 'herself', 'it', \"it's\", 'its', 'itself', 'they', 'them', 'their', 'theirs', 'themselves', 'what', 'which', 'who', 'whom', 'this', 'that', \"that'll\", 'these', 'those', 'am', 'is', 'are', 'was', 'were', 'be', 'been', 'being', 'have', 'has', 'had', 'having', 'do', 'does', 'did', 'doing', 'a', 'an', 'the', 'and', 'but', 'if', 'or', 'because', 'as', 'until', 'while', 'of', 'at', 'by', 'for', 'with', 'about', 'against', 'between', 'into', 'through', 'during', 'before', 'after', 'above', 'below', 'to', 'from', 'up', 'down', 'in', 'out', 'on', 'off', 'over', 'under', 'again', 'further', 'then', 'once', 'here', 'there', 'when', 'where', 'why', 'how', 'all', 'any', 'both', 'each', 'few', 'more', 'most', 'other', 'some', 'such', 'no', 'nor', 'not', 'only', 'own', 'same', 'so', 'than', 'too', 'very', 's', 't', 'can', 'will', 'just', 'don', \"don't\", 'should', \"should've\", 'now', 'd', 'll', 'm', 'o', 're', 've', 'y', 'ain', 'aren', \"aren't\", 'couldn', \"couldn't\", 'didn', \"didn't\", 'doesn', \"doesn't\", 'hadn', \"hadn't\", 'hasn', \"hasn't\", 'haven', \"haven't\", 'isn', \"isn't\", 'ma', 'mightn', \"mightn't\", 'mustn', \"mustn't\", 'needn', \"needn't\", 'shan', \"shan't\", 'shouldn', \"shouldn't\", 'wasn', \"wasn't\", 'weren', \"weren't\", 'won', \"won't\", 'wouldn', \"wouldn't\"]\n"
     ]
    }
   ],
   "source": [
    "print(stop_nltk)"
   ]
  },
  {
   "cell_type": "code",
   "execution_count": 47,
   "metadata": {},
   "outputs": [
    {
     "name": "stdout",
     "output_type": "stream",
     "text": [
      "['!', '\"', '#', '$', '%', '&', \"'\", '(', ')', '*', '+', ',', '-', '.', '/', ':', ';', '<', '=', '>', '?', '@', '[', '\\\\', ']', '^', '_', '`', '{', '|', '}', '~']\n"
     ]
    }
   ],
   "source": [
    "print(list(punctuation))"
   ]
  },
  {
   "cell_type": "code",
   "execution_count": 48,
   "metadata": {},
   "outputs": [],
   "source": [
    "txt = \"I don't care, more\"\n",
    "tok = word_tokenize(txt.lower())"
   ]
  },
  {
   "cell_type": "code",
   "execution_count": 49,
   "metadata": {},
   "outputs": [
    {
     "data": {
      "text/plain": [
       "[\"n't\", 'care']"
      ]
     },
     "execution_count": 49,
     "metadata": {},
     "output_type": "execute_result"
    }
   ],
   "source": [
    "[word for word in tok if \\\n",
    " word not in stop_nltk and word not in list(punctuation)]"
   ]
  },
  {
   "cell_type": "markdown",
   "metadata": {},
   "source": [
    "Stemming"
   ]
  },
  {
   "cell_type": "markdown",
   "metadata": {},
   "source": [
    "- it takes the word to its root form\n",
    "- its rule based technique which just removes the suffixes\n",
    "- the stemmed word might not be part of the dictionary\n",
    "- 2 types of stemmers:\n",
    "    1. porter stemmer - oldest and a legacy stemmer developed in 1979\n",
    "    2. snowball stemmer - sophasticated stemmer, faster and supports multiple languages"
   ]
  },
  {
   "cell_type": "code",
   "execution_count": 28,
   "metadata": {},
   "outputs": [],
   "source": [
    "from nltk.stem import PorterStemmer, SnowballStemmer"
   ]
  },
  {
   "cell_type": "code",
   "execution_count": 29,
   "metadata": {},
   "outputs": [],
   "source": [
    "stemmer_p = PorterStemmer()\n",
    "stemmer_s = SnowballStemmer(\"english\")"
   ]
  },
  {
   "cell_type": "code",
   "execution_count": 33,
   "metadata": {},
   "outputs": [
    {
     "name": "stdout",
     "output_type": "stream",
     "text": [
      "deadli\n",
      "dead\n",
      "devalu\n",
      "devalu\n"
     ]
    }
   ],
   "source": [
    "print( stemmer_p.stem(\"deadly\") )\n",
    "print( stemmer_s.stem(\"deadly\") )\n",
    "\n",
    "print( stemmer_p.stem(\"devalue\") )\n",
    "print( stemmer_s.stem(\"devalue\") )\n",
    "\n",
    "# print( lemm.lemmatize(\"devalue\") )\n"
   ]
  },
  {
   "cell_type": "code",
   "execution_count": 34,
   "metadata": {},
   "outputs": [
    {
     "name": "stdout",
     "output_type": "stream",
     "text": [
      "['i', 'mustered', 'all', 'my', 'drive', ',', 'drove', 'to', 'the', 'driving', 'school', 'not', 'did', \"n't\"]\n"
     ]
    }
   ],
   "source": [
    "txt = 'I mustered all my drive, drove to the driving school not didn\\'t '\n",
    "tokens = word_tokenize(txt.lower())\n",
    "# tokens = txt.split()\n",
    "print( tokens )"
   ]
  },
  {
   "cell_type": "code",
   "execution_count": 35,
   "metadata": {},
   "outputs": [
    {
     "name": "stdout",
     "output_type": "stream",
     "text": [
      "['i', 'muster', 'all', 'my', 'drive', ',', 'drove', 'to', 'the', 'drive', 'school', 'not', 'did', \"n't\"]\n",
      "['i', 'muster', 'all', 'my', 'drive', ',', 'drove', 'to', 'the', 'drive', 'school', 'not', 'did', \"n't\"]\n"
     ]
    }
   ],
   "source": [
    "print([stemmer_p.stem(word) for word in tokens])\n",
    "\n",
    "print([stemmer_s.stem(word) for word in tokens])"
   ]
  },
  {
   "cell_type": "code",
   "execution_count": 36,
   "metadata": {},
   "outputs": [],
   "source": [
    "txt = \"he is very methodical and orderly in his execution\"\n",
    "tokens = word_tokenize(txt.lower())"
   ]
  },
  {
   "cell_type": "code",
   "execution_count": 37,
   "metadata": {},
   "outputs": [
    {
     "name": "stdout",
     "output_type": "stream",
     "text": [
      "['he', 'is', 'veri', 'method', 'and', 'orderli', 'in', 'hi', 'execut']\n"
     ]
    }
   ],
   "source": [
    "print([stemmer_p.stem(word) for word in tokens])"
   ]
  },
  {
   "cell_type": "code",
   "execution_count": 38,
   "metadata": {},
   "outputs": [],
   "source": [
    "stemmer_s = SnowballStemmer(\"english\")"
   ]
  },
  {
   "cell_type": "code",
   "execution_count": 39,
   "metadata": {},
   "outputs": [
    {
     "name": "stdout",
     "output_type": "stream",
     "text": [
      "['he', 'is', 'veri', 'method', 'and', 'order', 'in', 'his', 'execut']\n"
     ]
    }
   ],
   "source": [
    "print([stemmer_s.stem(word) for word in tokens])"
   ]
  },
  {
   "cell_type": "code",
   "execution_count": 27,
   "metadata": {},
   "outputs": [
    {
     "name": "stdout",
     "output_type": "stream",
     "text": [
      "['studi', 'studi', 'cri', 'cri', 'hi', 'execut']\n",
      "['studi', 'studi', 'cri', 'cri', 'his', 'execut']\n",
      "['studi', 'studi', 'cri', 'cri', 'hi', 'execut', 'orderli', 'univers', 'univers']\n",
      "['studi', 'studi', 'cri', 'cri', 'his', 'execut', 'order', 'univers', 'univers']\n"
     ]
    }
   ],
   "source": [
    "#stem the below sentences\n",
    "text = \"studies studying cries cry his execute\".split()\n",
    "print( [ stemmer_p.stem(i) for i in text ] )\n",
    "print( [ stemmer_s.stem(i) for i in text ] )\n",
    "\n",
    "text = \"studies studying cries cry his execute orderly university universal\".split()\n",
    "print( [ stemmer_p.stem(i) for i in text ] )\n",
    "print( [ stemmer_s.stem(i) for i in text ] )"
   ]
  },
  {
   "cell_type": "markdown",
   "metadata": {},
   "source": [
    "#### Lemmatization"
   ]
  },
  {
   "cell_type": "markdown",
   "metadata": {},
   "source": [
    "- Like stemming, lemmatization takes the word to the root form called as lemma\n",
    "- It involves resolving words to their dictionary form\n",
    "- A lemma of a word is its dictionary form or canonical form\n",
    "- Lemmetizer in NLTK uses WordNet data set which comprises a list of synonyms"
   ]
  },
  {
   "cell_type": "code",
   "execution_count": 51,
   "metadata": {},
   "outputs": [
    {
     "name": "stderr",
     "output_type": "stream",
     "text": [
      "[nltk_data] Downloading package wordnet to\n",
      "[nltk_data]     C:\\Users\\Administrator\\AppData\\Roaming\\nltk_data...\n",
      "[nltk_data]   Package wordnet is already up-to-date!\n"
     ]
    },
    {
     "data": {
      "text/plain": [
       "True"
      ]
     },
     "execution_count": 51,
     "metadata": {},
     "output_type": "execute_result"
    }
   ],
   "source": [
    "nltk.download(\"wordnet\")"
   ]
  },
  {
   "cell_type": "code",
   "execution_count": 40,
   "metadata": {},
   "outputs": [],
   "source": [
    "from nltk.stem import WordNetLemmatizer"
   ]
  },
  {
   "cell_type": "code",
   "execution_count": 41,
   "metadata": {},
   "outputs": [],
   "source": [
    "lemm = WordNetLemmatizer()"
   ]
  },
  {
   "cell_type": "code",
   "execution_count": 42,
   "metadata": {},
   "outputs": [
    {
     "name": "stdout",
     "output_type": "stream",
     "text": [
      "['he', 'is', 'very', 'methodical', 'and', 'orderly', 'in', 'his', 'execution']\n"
     ]
    }
   ],
   "source": [
    "\n",
    "txt = \"he is very methodical and orderly in his execution\"\n",
    "tokens = word_tokenize(txt.lower())\n",
    "print(tokens)"
   ]
  },
  {
   "cell_type": "code",
   "execution_count": 43,
   "metadata": {},
   "outputs": [
    {
     "name": "stdout",
     "output_type": "stream",
     "text": [
      "['he', 'is', 'very', 'methodical', 'and', 'orderly', 'in', 'his', 'execution']\n"
     ]
    }
   ],
   "source": [
    "print([lemm.lemmatize(word) for word in tokens])"
   ]
  },
  {
   "cell_type": "code",
   "execution_count": 47,
   "metadata": {},
   "outputs": [
    {
     "name": "stdout",
     "output_type": "stream",
     "text": [
      "['he', 'is', 'very', 'methodical', 'and', 'orderly', 'in', 'his', 'execution']\n",
      "['he', 'be', 'very', 'methodical', 'and', 'orderly', 'in', 'his', 'execution']\n",
      "['he', 'is', 'driving', 'and', 'drive', 'the', 'down', 'of', 'the', 'drived', 'vehicle']\n",
      "['he', 'be', 'drive', 'and', 'drive', 'the', 'down', 'of', 'the', 'drive', 'vehicle']\n",
      "['study', 'studying', 'cry', 'cry', 'like', 'his', 'execute']\n",
      "['study', 'study', 'cry', 'cry', 'like', 'his', 'execute']\n",
      "['study', 'studying', 'cry', 'cry', 'his', 'like', 'execute', 'orderly', 'university', 'universal']\n",
      "['study', 'study', 'cry', 'cry', 'his', 'like', 'execute', 'orderly', 'university', 'universal']\n"
     ]
    }
   ],
   "source": [
    "#Lemmetize the below sentenses\n",
    "txt1 = \"he is very methodical and orderly in his execution\".split()\n",
    "txt2 = \"he is driving and drives the down of the drived vehicle\".split()\n",
    "txt3 = \"studies studying cries cry likes his execute\".split()\n",
    "txt4 = \"studies studying cries cry his likes execute orderly university universal\".split()\n",
    "\n",
    "print([lemm.lemmatize(word) for word in txt1])\n",
    "print([lemm.lemmatize(word,'v') for word in txt1])\n",
    "\n",
    "print([lemm.lemmatize(word) for word in txt2])\n",
    "print([lemm.lemmatize(word,'v') for word in txt2])\n",
    "\n",
    "print([lemm.lemmatize(word) for word in txt3])\n",
    "print([lemm.lemmatize(word,'v') for word in txt3])\n",
    "\n",
    "print([lemm.lemmatize(word) for word in txt4])\n",
    "print([lemm.lemmatize(word,'v') for word in txt4])"
   ]
  },
  {
   "cell_type": "markdown",
   "metadata": {},
   "source": [
    "- lemmetization is very aggresive technique in taking the word to the root form\n",
    "- if the word to be stemmed is not part of the dictionary, it leaves it as is\n",
    "- ensures that the meaning of the sentence is not altered\n",
    "- In most of the scenarios the no. distinct words after lemmetization could be same as before\n"
   ]
  },
  {
   "cell_type": "code",
   "execution_count": 32,
   "metadata": {},
   "outputs": [
    {
     "name": "stdout",
     "output_type": "stream",
     "text": [
      "['he', 'is', 'driving', 'and', 'drive', 'the', 'down', 'of', 'the', 'drove', 'drived', 'vehicle']\n",
      "['he', 'is', 'drive', 'and', 'drive', 'the', 'down', 'of', 'the', 'drove', 'drive', 'vehicl']\n"
     ]
    }
   ],
   "source": [
    "txt2 = \"he is driving and drives the down of the drove drived vehicle\"\n",
    "print([lemm.lemmatize(word) for word in word_tokenize(txt2.lower()) ])\n",
    "print([stemmer_s.stem(word) for word in word_tokenize(txt2.lower()) ])\n"
   ]
  },
  {
   "cell_type": "code",
   "execution_count": 64,
   "metadata": {},
   "outputs": [],
   "source": [
    "?lemm.lemmatize"
   ]
  },
  {
   "cell_type": "code",
   "execution_count": 66,
   "metadata": {},
   "outputs": [
    {
     "name": "stdout",
     "output_type": "stream",
     "text": [
      "['he', 'be', 'drive', 'and', 'drive', 'the', 'down', 'of', 'the', 'drive', 'drive', 'vehicle']\n"
     ]
    }
   ],
   "source": [
    "print([lemm.lemmatize(word, pos=\"v\") for word in word_tokenize(txt2.lower()) ])"
   ]
  },
  {
   "cell_type": "code",
   "execution_count": 50,
   "metadata": {},
   "outputs": [
    {
     "ename": "NameError",
     "evalue": "name 'SnowballPorter' is not defined",
     "output_type": "error",
     "traceback": [
      "\u001b[1;31m---------------------------------------------------------------------------\u001b[0m",
      "\u001b[1;31mNameError\u001b[0m                                 Traceback (most recent call last)",
      "\u001b[1;32m<ipython-input-50-86ea7838e28f>\u001b[0m in \u001b[0;36m<module>\u001b[1;34m\u001b[0m\n\u001b[1;32m----> 1\u001b[1;33m \u001b[0mSnowballPorter\u001b[0m\u001b[1;33m\u001b[0m\u001b[1;33m\u001b[0m\u001b[0m\n\u001b[0m",
      "\u001b[1;31mNameError\u001b[0m: name 'SnowballPorter' is not defined"
     ]
    }
   ],
   "source": [
    "SnowballPorter"
   ]
  },
  {
   "cell_type": "code",
   "execution_count": null,
   "metadata": {},
   "outputs": [],
   "source": []
  }
 ],
 "metadata": {
  "kernelspec": {
   "display_name": "Python 3",
   "language": "python",
   "name": "python3"
  },
  "language_info": {
   "codemirror_mode": {
    "name": "ipython",
    "version": 3
   },
   "file_extension": ".py",
   "mimetype": "text/x-python",
   "name": "python",
   "nbconvert_exporter": "python",
   "pygments_lexer": "ipython3",
   "version": "3.7.3"
  }
 },
 "nbformat": 4,
 "nbformat_minor": 2
}
