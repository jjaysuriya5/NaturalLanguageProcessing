{
 "cells": [
  {
   "cell_type": "code",
   "execution_count": 1,
   "metadata": {},
   "outputs": [],
   "source": [
    "import pandas as pd"
   ]
  },
  {
   "cell_type": "markdown",
   "metadata": {},
   "source": [
    "### Sentiment Prediction Strategy 1: Word based scoring \n",
    "AFINN is a list of English words rated for valence with an integer\n",
    "between minus five (negative) and plus five (positive). The words have\n",
    "been manually labeled by Finn Årup Nielsen in 2009-2011. The file\n",
    "is tab-separated. There are two versions:\n",
    "\n",
    "AFINN-111: Newest version with 2477 words and phrases.\n",
    "\n",
    "AFINN-96: 1468 unique words and phrases on 1480 lines. Note that there\n",
    "are 1480 lines, as some words are listed twice. The word list in not\n",
    "entirely in alphabetic ordering.  \n",
    "\n",
    "An evaluation of the word list is available in:\n",
    "\n",
    "Finn Årup Nielsen, \"A new ANEW: Evaluation of a word list for\n",
    "sentiment analysis in microblogs\", http://arxiv.org/abs/1103.2903"
   ]
  },
  {
   "cell_type": "markdown",
   "metadata": {},
   "source": [
    "Valence, as used in psychology, especially in discussing emotions, means the intrinsic attractiveness/\"good\"-ness (positive valence) or averseness/\"bad\"-ness (negative valence) of an event, object, or situation. ... For example, emotions popularly referred to as \"negative\", such as anger and fear, have negative valence.\n",
    "    - source Wikipedia"
   ]
  },
  {
   "cell_type": "code",
   "execution_count": 1,
   "metadata": {},
   "outputs": [
    {
     "data": {
      "text/plain": [
       "'C:\\\\Users\\\\Administrator\\\\Desktop\\\\Python\\\\NLP\\\\Day 3'"
      ]
     },
     "execution_count": 1,
     "metadata": {},
     "output_type": "execute_result"
    }
   ],
   "source": [
    "pwd"
   ]
  },
  {
   "cell_type": "code",
   "execution_count": 2,
   "metadata": {},
   "outputs": [],
   "source": [
    "affin = pd.read_csv( 'AFINN-111.txt' , sep = '\\t'  , header = None ) # AFINN-111"
   ]
  },
  {
   "cell_type": "code",
   "execution_count": 3,
   "metadata": {},
   "outputs": [
    {
     "data": {
      "text/html": [
       "<div>\n",
       "<style scoped>\n",
       "    .dataframe tbody tr th:only-of-type {\n",
       "        vertical-align: middle;\n",
       "    }\n",
       "\n",
       "    .dataframe tbody tr th {\n",
       "        vertical-align: top;\n",
       "    }\n",
       "\n",
       "    .dataframe thead th {\n",
       "        text-align: right;\n",
       "    }\n",
       "</style>\n",
       "<table border=\"1\" class=\"dataframe\">\n",
       "  <thead>\n",
       "    <tr style=\"text-align: right;\">\n",
       "      <th></th>\n",
       "      <th>0</th>\n",
       "      <th>1</th>\n",
       "    </tr>\n",
       "  </thead>\n",
       "  <tbody>\n",
       "    <tr>\n",
       "      <th>0</th>\n",
       "      <td>abandon</td>\n",
       "      <td>-2</td>\n",
       "    </tr>\n",
       "    <tr>\n",
       "      <th>1</th>\n",
       "      <td>abandoned</td>\n",
       "      <td>-2</td>\n",
       "    </tr>\n",
       "    <tr>\n",
       "      <th>2</th>\n",
       "      <td>abandons</td>\n",
       "      <td>-2</td>\n",
       "    </tr>\n",
       "    <tr>\n",
       "      <th>3</th>\n",
       "      <td>abducted</td>\n",
       "      <td>-2</td>\n",
       "    </tr>\n",
       "    <tr>\n",
       "      <th>4</th>\n",
       "      <td>abduction</td>\n",
       "      <td>-2</td>\n",
       "    </tr>\n",
       "  </tbody>\n",
       "</table>\n",
       "</div>"
      ],
      "text/plain": [
       "           0  1\n",
       "0    abandon -2\n",
       "1  abandoned -2\n",
       "2   abandons -2\n",
       "3   abducted -2\n",
       "4  abduction -2"
      ]
     },
     "execution_count": 3,
     "metadata": {},
     "output_type": "execute_result"
    }
   ],
   "source": [
    "affin.head()"
   ]
  },
  {
   "cell_type": "code",
   "execution_count": 4,
   "metadata": {},
   "outputs": [],
   "source": [
    "affin.columns = ['words' , 'score']"
   ]
  },
  {
   "cell_type": "code",
   "execution_count": 5,
   "metadata": {},
   "outputs": [
    {
     "data": {
      "text/html": [
       "<div>\n",
       "<style scoped>\n",
       "    .dataframe tbody tr th:only-of-type {\n",
       "        vertical-align: middle;\n",
       "    }\n",
       "\n",
       "    .dataframe tbody tr th {\n",
       "        vertical-align: top;\n",
       "    }\n",
       "\n",
       "    .dataframe thead th {\n",
       "        text-align: right;\n",
       "    }\n",
       "</style>\n",
       "<table border=\"1\" class=\"dataframe\">\n",
       "  <thead>\n",
       "    <tr style=\"text-align: right;\">\n",
       "      <th></th>\n",
       "      <th>words</th>\n",
       "      <th>score</th>\n",
       "    </tr>\n",
       "  </thead>\n",
       "  <tbody>\n",
       "    <tr>\n",
       "      <th>0</th>\n",
       "      <td>abandon</td>\n",
       "      <td>-2</td>\n",
       "    </tr>\n",
       "    <tr>\n",
       "      <th>1</th>\n",
       "      <td>abandoned</td>\n",
       "      <td>-2</td>\n",
       "    </tr>\n",
       "    <tr>\n",
       "      <th>2</th>\n",
       "      <td>abandons</td>\n",
       "      <td>-2</td>\n",
       "    </tr>\n",
       "    <tr>\n",
       "      <th>3</th>\n",
       "      <td>abducted</td>\n",
       "      <td>-2</td>\n",
       "    </tr>\n",
       "    <tr>\n",
       "      <th>4</th>\n",
       "      <td>abduction</td>\n",
       "      <td>-2</td>\n",
       "    </tr>\n",
       "  </tbody>\n",
       "</table>\n",
       "</div>"
      ],
      "text/plain": [
       "       words  score\n",
       "0    abandon     -2\n",
       "1  abandoned     -2\n",
       "2   abandons     -2\n",
       "3   abducted     -2\n",
       "4  abduction     -2"
      ]
     },
     "execution_count": 5,
     "metadata": {},
     "output_type": "execute_result"
    }
   ],
   "source": [
    "affin.head()"
   ]
  },
  {
   "cell_type": "code",
   "execution_count": 6,
   "metadata": {},
   "outputs": [],
   "source": [
    "affin['wordlen'] = affin['words'].apply( lambda x : len(x.split()) )"
   ]
  },
  {
   "cell_type": "code",
   "execution_count": 9,
   "metadata": {},
   "outputs": [
    {
     "data": {
      "text/html": [
       "<div>\n",
       "<style scoped>\n",
       "    .dataframe tbody tr th:only-of-type {\n",
       "        vertical-align: middle;\n",
       "    }\n",
       "\n",
       "    .dataframe tbody tr th {\n",
       "        vertical-align: top;\n",
       "    }\n",
       "\n",
       "    .dataframe thead th {\n",
       "        text-align: right;\n",
       "    }\n",
       "</style>\n",
       "<table border=\"1\" class=\"dataframe\">\n",
       "  <thead>\n",
       "    <tr style=\"text-align: right;\">\n",
       "      <th></th>\n",
       "      <th>words</th>\n",
       "      <th>score</th>\n",
       "      <th>wordlen</th>\n",
       "    </tr>\n",
       "  </thead>\n",
       "  <tbody>\n",
       "    <tr>\n",
       "      <th>2073</th>\n",
       "      <td>some kind</td>\n",
       "      <td>0</td>\n",
       "      <td>2</td>\n",
       "    </tr>\n",
       "  </tbody>\n",
       "</table>\n",
       "</div>"
      ],
      "text/plain": [
       "          words  score  wordlen\n",
       "2073  some kind      0        2"
      ]
     },
     "execution_count": 9,
     "metadata": {},
     "output_type": "execute_result"
    }
   ],
   "source": [
    "affin.query( 'score == 0 ')"
   ]
  },
  {
   "cell_type": "code",
   "execution_count": 3,
   "metadata": {},
   "outputs": [],
   "source": [
    "# pip install textblob "
   ]
  },
  {
   "cell_type": "code",
   "execution_count": 5,
   "metadata": {},
   "outputs": [],
   "source": [
    "from textblob import TextBlob"
   ]
  },
  {
   "cell_type": "code",
   "execution_count": 15,
   "metadata": {},
   "outputs": [],
   "source": [
    "term_score = dict( affin[['words','score']].values )\n",
    "# term_score"
   ]
  },
  {
   "cell_type": "code",
   "execution_count": 18,
   "metadata": {},
   "outputs": [
    {
     "data": {
      "text/plain": [
       "-2"
      ]
     },
     "execution_count": 18,
     "metadata": {},
     "output_type": "execute_result"
    }
   ],
   "source": [
    "term_score['abandon']"
   ]
  },
  {
   "cell_type": "code",
   "execution_count": 22,
   "metadata": {},
   "outputs": [
    {
     "data": {
      "text/plain": [
       "0"
      ]
     },
     "execution_count": 22,
     "metadata": {},
     "output_type": "execute_result"
    }
   ],
   "source": [
    "term_score.get( 'abandom' , 0)"
   ]
  },
  {
   "cell_type": "code",
   "execution_count": 20,
   "metadata": {},
   "outputs": [
    {
     "name": "stdout",
     "output_type": "stream",
     "text": [
      "3\n",
      "0\n"
     ]
    }
   ],
   "source": [
    "print ( term_score.get( 'good' , 0) )\n",
    "print ( term_score.get( 'not' , 0) )"
   ]
  },
  {
   "cell_type": "code",
   "execution_count": 30,
   "metadata": {},
   "outputs": [
    {
     "data": {
      "text/html": [
       "<div>\n",
       "<style scoped>\n",
       "    .dataframe tbody tr th:only-of-type {\n",
       "        vertical-align: middle;\n",
       "    }\n",
       "\n",
       "    .dataframe tbody tr th {\n",
       "        vertical-align: top;\n",
       "    }\n",
       "\n",
       "    .dataframe thead th {\n",
       "        text-align: right;\n",
       "    }\n",
       "</style>\n",
       "<table border=\"1\" class=\"dataframe\">\n",
       "  <thead>\n",
       "    <tr style=\"text-align: right;\">\n",
       "      <th></th>\n",
       "      <th>words</th>\n",
       "      <th>score</th>\n",
       "      <th>wordlen</th>\n",
       "    </tr>\n",
       "  </thead>\n",
       "  <tbody>\n",
       "    <tr>\n",
       "      <th>339</th>\n",
       "      <td>can't stand</td>\n",
       "      <td>-3</td>\n",
       "      <td>2</td>\n",
       "    </tr>\n",
       "    <tr>\n",
       "      <th>353</th>\n",
       "      <td>cashing in</td>\n",
       "      <td>-2</td>\n",
       "      <td>2</td>\n",
       "    </tr>\n",
       "    <tr>\n",
       "      <th>500</th>\n",
       "      <td>cool stuff</td>\n",
       "      <td>3</td>\n",
       "      <td>2</td>\n",
       "    </tr>\n",
       "    <tr>\n",
       "      <th>761</th>\n",
       "      <td>does not work</td>\n",
       "      <td>-3</td>\n",
       "      <td>3</td>\n",
       "    </tr>\n",
       "    <tr>\n",
       "      <th>763</th>\n",
       "      <td>dont like</td>\n",
       "      <td>-2</td>\n",
       "      <td>2</td>\n",
       "    </tr>\n",
       "    <tr>\n",
       "      <th>978</th>\n",
       "      <td>fed up</td>\n",
       "      <td>-3</td>\n",
       "      <td>2</td>\n",
       "    </tr>\n",
       "    <tr>\n",
       "      <th>1108</th>\n",
       "      <td>green wash</td>\n",
       "      <td>-3</td>\n",
       "      <td>2</td>\n",
       "    </tr>\n",
       "    <tr>\n",
       "      <th>1109</th>\n",
       "      <td>green washing</td>\n",
       "      <td>-3</td>\n",
       "      <td>2</td>\n",
       "    </tr>\n",
       "    <tr>\n",
       "      <th>1516</th>\n",
       "      <td>messing up</td>\n",
       "      <td>-2</td>\n",
       "      <td>2</td>\n",
       "    </tr>\n",
       "    <tr>\n",
       "      <th>1605</th>\n",
       "      <td>no fun</td>\n",
       "      <td>-3</td>\n",
       "      <td>2</td>\n",
       "    </tr>\n",
       "    <tr>\n",
       "      <th>1611</th>\n",
       "      <td>not good</td>\n",
       "      <td>-2</td>\n",
       "      <td>2</td>\n",
       "    </tr>\n",
       "    <tr>\n",
       "      <th>1612</th>\n",
       "      <td>not working</td>\n",
       "      <td>-3</td>\n",
       "      <td>2</td>\n",
       "    </tr>\n",
       "    <tr>\n",
       "      <th>1921</th>\n",
       "      <td>right direction</td>\n",
       "      <td>3</td>\n",
       "      <td>2</td>\n",
       "    </tr>\n",
       "    <tr>\n",
       "      <th>1979</th>\n",
       "      <td>screwed up</td>\n",
       "      <td>-3</td>\n",
       "      <td>2</td>\n",
       "    </tr>\n",
       "    <tr>\n",
       "      <th>2073</th>\n",
       "      <td>some kind</td>\n",
       "      <td>0</td>\n",
       "      <td>2</td>\n",
       "    </tr>\n",
       "  </tbody>\n",
       "</table>\n",
       "</div>"
      ],
      "text/plain": [
       "                words  score  wordlen\n",
       "339       can't stand     -3        2\n",
       "353        cashing in     -2        2\n",
       "500        cool stuff      3        2\n",
       "761     does not work     -3        3\n",
       "763         dont like     -2        2\n",
       "978            fed up     -3        2\n",
       "1108       green wash     -3        2\n",
       "1109    green washing     -3        2\n",
       "1516       messing up     -2        2\n",
       "1605           no fun     -3        2\n",
       "1611         not good     -2        2\n",
       "1612      not working     -3        2\n",
       "1921  right direction      3        2\n",
       "1979       screwed up     -3        2\n",
       "2073        some kind      0        2"
      ]
     },
     "execution_count": 30,
     "metadata": {},
     "output_type": "execute_result"
    }
   ],
   "source": [
    "affin.query( 'wordlen > 1')"
   ]
  },
  {
   "cell_type": "code",
   "execution_count": 44,
   "metadata": {},
   "outputs": [
    {
     "name": "stdout",
     "output_type": "stream",
     "text": [
      "[\"can't stand\", 'cashing in', 'cool stuff', 'does not work', 'dont like', 'fed up', 'green wash', 'green washing', 'messing up', 'no fun', 'not good', 'not working', 'right direction', 'screwed up', 'some kind']\n"
     ]
    }
   ],
   "source": [
    "twin_words = affin.query( 'wordlen > 1')['words'].tolist()\n",
    "# twin_words = list( enumerate( twin_words ))\n",
    "print( twin_words )"
   ]
  },
  {
   "cell_type": "code",
   "execution_count": null,
   "metadata": {},
   "outputs": [],
   "source": []
  },
  {
   "cell_type": "code",
   "execution_count": 42,
   "metadata": {},
   "outputs": [
    {
     "name": "stdout",
     "output_type": "stream",
     "text": [
      "{(\"can't\", 'stand'): 0, ('cashing', 'in'): 1, ('cool', 'stuff'): 2, ('does', 'not', 'work'): 3, ('dont', 'like'): 4, ('fed', 'up'): 5, ('green', 'wash'): 6, ('green', 'washing'): 7, ('messing', 'up'): 8, ('no', 'fun'): 9, ('not', 'good'): 10, ('not', 'working'): 11, ('right', 'direction'): 12, ('screwed', 'up'): 13, ('some', 'kind'): 14}\n"
     ]
    }
   ],
   "source": [
    "twin_words_u =  {  tuple(words.split()) : ind  for ind , words  in twin_words }\n",
    "print( twin_words_u )\n"
   ]
  },
  {
   "cell_type": "code",
   "execution_count": 43,
   "metadata": {},
   "outputs": [
    {
     "data": {
      "text/plain": [
       "dict_keys([(\"can't\", 'stand'), ('cashing', 'in'), ('cool', 'stuff'), ('does', 'not', 'work'), ('dont', 'like'), ('fed', 'up'), ('green', 'wash'), ('green', 'washing'), ('messing', 'up'), ('no', 'fun'), ('not', 'good'), ('not', 'working'), ('right', 'direction'), ('screwed', 'up'), ('some', 'kind')])"
      ]
     },
     "execution_count": 43,
     "metadata": {},
     "output_type": "execute_result"
    }
   ],
   "source": [
    "twin_words_u.keys()"
   ]
  },
  {
   "cell_type": "code",
   "execution_count": 45,
   "metadata": {},
   "outputs": [
    {
     "name": "stdout",
     "output_type": "stream",
     "text": [
      "[\"can't stand\", 'cashing in', 'cool stuff', 'does not work', 'dont like', 'fed up', 'green wash', 'green washing', 'messing up', 'no fun', 'not good', 'not working', 'right direction', 'screwed up', 'some kind']\n"
     ]
    }
   ],
   "source": [
    "print( twin_words )"
   ]
  },
  {
   "cell_type": "code",
   "execution_count": 49,
   "metadata": {},
   "outputs": [
    {
     "data": {
      "text/plain": [
       "'nlp is n'"
      ]
     },
     "execution_count": 49,
     "metadata": {},
     "output_type": "execute_result"
    }
   ],
   "source": [
    "txt.replace( 'not good' , '_''not good'.split() )"
   ]
  },
  {
   "cell_type": "code",
   "execution_count": 66,
   "metadata": {},
   "outputs": [
    {
     "name": "stdout",
     "output_type": "stream",
     "text": [
      "False\n",
      "False\n"
     ]
    }
   ],
   "source": [
    "t = 'does not good'\n",
    "for i in ['does not work', 'dont like']:\n",
    "    if i in t :\n",
    "        print( True )\n",
    "    else :\n",
    "        print( False )"
   ]
  },
  {
   "cell_type": "code",
   "execution_count": 53,
   "metadata": {},
   "outputs": [
    {
     "data": {
      "text/plain": [
       "3"
      ]
     },
     "execution_count": 53,
     "metadata": {},
     "output_type": "execute_result"
    }
   ],
   "source": [
    "txt = 'nlp is not good'\n",
    "\n",
    "sum(  [ term_score.get(i,0) for i in txt.split() ]  ) # score for each word getting added up"
   ]
  },
  {
   "cell_type": "code",
   "execution_count": 69,
   "metadata": {},
   "outputs": [
    {
     "name": "stdout",
     "output_type": "stream",
     "text": [
      "nlp is does_not_work :-)) \n",
      "-3\n"
     ]
    }
   ],
   "source": [
    "txt = 'nlp is does not work :-)) '\n",
    "\n",
    "for i in twin_words:\n",
    "    if i in txt :\n",
    "        txt = txt.replace( i , '_'.join(i.split()) )\n",
    "\n",
    "\n",
    "print(txt)\n",
    "\n",
    "print( sum( [term_score.get(i.replace('_',' ') , 0 ) for i in txt.split()] ) )\n",
    "\n",
    "\n"
   ]
  },
  {
   "cell_type": "code",
   "execution_count": 35,
   "metadata": {},
   "outputs": [],
   "source": [
    "import nltk"
   ]
  },
  {
   "cell_type": "code",
   "execution_count": 61,
   "metadata": {},
   "outputs": [],
   "source": [
    "from nltk.tokenize import word_tokenize "
   ]
  },
  {
   "cell_type": "code",
   "execution_count": 62,
   "metadata": {},
   "outputs": [],
   "source": [
    "def get_sentiment( txt ):\n",
    "    d = {}\n",
    "    score = 0 \n",
    "    tokens = word_tokenize( txt.lower() )\n",
    "    for terms in tokens:\n",
    "        score += term_score.get( terms , 0 )\n",
    "        d[terms] = term_score.get( terms , 0 )\n",
    "    return score , d"
   ]
  },
  {
   "cell_type": "code",
   "execution_count": 100,
   "metadata": {},
   "outputs": [
    {
     "name": "stdout",
     "output_type": "stream",
     "text": [
      "-2\n"
     ]
    }
   ],
   "source": [
    "print ( term_score.get( 'not good' , 0) )"
   ]
  },
  {
   "cell_type": "code",
   "execution_count": 101,
   "metadata": {},
   "outputs": [
    {
     "name": "stdout",
     "output_type": "stream",
     "text": [
      "{'the': 0, 'hotel': 0, 'is': 0, 'not': 0, 'good': 3, 'and': 0, 'food': 0, 'also': 0, 'pathetic': -2}\n",
      "1\n"
     ]
    }
   ],
   "source": [
    "txt = 'The hotel is not good and the food is also pathetic'\n",
    "s , d = get_sentiment(txt)\n",
    "print(d)\n",
    "print(s)"
   ]
  },
  {
   "cell_type": "markdown",
   "metadata": {},
   "source": [
    "# Sentiment Prediction Strategy 2 : vader "
   ]
  },
  {
   "cell_type": "code",
   "execution_count": 56,
   "metadata": {},
   "outputs": [
    {
     "name": "stderr",
     "output_type": "stream",
     "text": [
      "[nltk_data] Downloading package vader_lexicon to\n",
      "[nltk_data]     C:\\Users\\Administrator\\AppData\\Roaming\\nltk_data...\n",
      "[nltk_data]   Package vader_lexicon is already up-to-date!\n"
     ]
    },
    {
     "data": {
      "text/plain": [
       "True"
      ]
     },
     "execution_count": 56,
     "metadata": {},
     "output_type": "execute_result"
    }
   ],
   "source": [
    "nltk.download('vader_lexicon')"
   ]
  },
  {
   "cell_type": "code",
   "execution_count": 57,
   "metadata": {},
   "outputs": [],
   "source": [
    "# VADER ( Valence Aware Dictionary and sEntiment Reasoner )"
   ]
  },
  {
   "cell_type": "code",
   "execution_count": 58,
   "metadata": {},
   "outputs": [],
   "source": [
    "from nltk.sentiment.vader import SentimentIntensityAnalyzer"
   ]
  },
  {
   "cell_type": "code",
   "execution_count": 59,
   "metadata": {},
   "outputs": [],
   "source": [
    "analyser = SentimentIntensityAnalyzer()"
   ]
  },
  {
   "cell_type": "code",
   "execution_count": 60,
   "metadata": {},
   "outputs": [],
   "source": [
    "# Polarity_scores methof on the analyser instance gives the :\n",
    "    \n",
    "#     1 ) probability of the positive , negative , neutral sentiments\n",
    "#     2 ) For each of the probabilities it adds a weitage to arrive at a compound score\n",
    "    \n",
    "#     For instance the weitage for the -v2 probability can be some negative number "
   ]
  },
  {
   "cell_type": "code",
   "execution_count": 7,
   "metadata": {},
   "outputs": [],
   "source": [
    "analysis = TextBlob('the food is great')\n"
   ]
  },
  {
   "cell_type": "code",
   "execution_count": 8,
   "metadata": {},
   "outputs": [
    {
     "data": {
      "text/plain": [
       "Sentiment(polarity=0.8, subjectivity=0.75)"
      ]
     },
     "execution_count": 8,
     "metadata": {},
     "output_type": "execute_result"
    }
   ],
   "source": [
    "analysis.sentiment"
   ]
  },
  {
   "cell_type": "code",
   "execution_count": 10,
   "metadata": {},
   "outputs": [],
   "source": [
    "analysis.sentiment_assessments?"
   ]
  },
  {
   "cell_type": "code",
   "execution_count": 69,
   "metadata": {},
   "outputs": [
    {
     "name": "stdout",
     "output_type": "stream",
     "text": [
      "{'neg': 0.0, 'neu': 0.423, 'pos': 0.577, 'compound': 0.6249}\n",
      "{'neg': 0.0, 'neu': 0.39, 'pos': 0.61, 'compound': 0.6892}\n",
      "{'neg': 0.0, 'neu': 0.319, 'pos': 0.681, 'compound': 0.7506}\n"
     ]
    }
   ],
   "source": [
    "print( analyser.polarity_scores( 'the food is great' ) )\n",
    "print( analyser.polarity_scores( 'the food is great!!' ) )\n",
    "print( analyser.polarity_scores( 'the food is great :-)' ) )"
   ]
  },
  {
   "cell_type": "code",
   "execution_count": 70,
   "metadata": {},
   "outputs": [],
   "source": [
    "# It is very sensitive to the smileys and punctuations "
   ]
  },
  {
   "cell_type": "code",
   "execution_count": 89,
   "metadata": {},
   "outputs": [
    {
     "name": "stdout",
     "output_type": "stream",
     "text": [
      "{'neg': 0.452, 'neu': 0.548, 'pos': 0.0, 'compound': -0.5096}\n",
      "{'neg': 0.472, 'neu': 0.528, 'pos': 0.0, 'compound': -0.6664}\n",
      "{'neg': 0.35, 'neu': 0.425, 'pos': 0.224, 'compound': -0.2924}\n",
      "\n",
      "{'neg': 0.508, 'neu': 0.492, 'pos': 0.0, 'compound': -0.4767}\n",
      "{'neg': 0.516, 'neu': 0.484, 'pos': 0.0, 'compound': -0.6449}\n",
      "{'neg': 0.651, 'neu': 0.349, 'pos': 0.0, 'compound': -0.6808}\n",
      "\n",
      "{'neg': 0.561, 'neu': 0.439, 'pos': 0.0, 'compound': -0.5904}\n"
     ]
    }
   ],
   "source": [
    "print( analyser.polarity_scores( 'the food is not great' ) )\n",
    "print( analyser.polarity_scores( 'the food is not great !!!!!!' ) )\n",
    "print( analyser.polarity_scores( 'the food is not great :-(' ) )\n",
    "print()\n",
    "print( analyser.polarity_scores( 'the food is terrible' ) )\n",
    "print( analyser.polarity_scores( 'the food is terrible !!!!!!' ) )\n",
    "print( analyser.polarity_scores( 'the food is terrible :-(' ) )\n",
    "print()\n",
    "print( analyser.polarity_scores( 'the food is TERRIBLE' ) )"
   ]
  },
  {
   "cell_type": "code",
   "execution_count": 90,
   "metadata": {},
   "outputs": [
    {
     "name": "stdout",
     "output_type": "stream",
     "text": [
      "{'neg': 0.0, 'neu': 1.0, 'pos': 0.0, 'compound': 0.0}\n",
      "{'neg': 0.0, 'neu': 0.635, 'pos': 0.365, 'compound': 0.3182}\n",
      "{'neg': 0.385, 'neu': 0.615, 'pos': 0.0, 'compound': -0.3612}\n",
      "\n",
      "{'neg': 0.365, 'neu': 0.635, 'pos': 0.0, 'compound': -0.3182}\n",
      "{'neg': 0.0, 'neu': 0.58, 'pos': 0.42, 'compound': 0.4404}\n"
     ]
    }
   ],
   "source": [
    "print( analyser.polarity_scores( 'just heard the news' ) )\n",
    "print( analyser.polarity_scores( 'just heard the news :-)' ) )\n",
    "print( analyser.polarity_scores( 'just heard the news :-(' ) )\n",
    "print()\n",
    "print( analyser.polarity_scores( 'just heard the news smh' ) )\n",
    "print( analyser.polarity_scores( 'just heard the news <3' ) )"
   ]
  },
  {
   "cell_type": "code",
   "execution_count": 87,
   "metadata": {},
   "outputs": [
    {
     "data": {
      "text/plain": [
       "0.07370078740157482"
      ]
     },
     "execution_count": 87,
     "metadata": {},
     "output_type": "execute_result"
    }
   ],
   "source": [
    "( 0.365 - 0.3182 ) / 0.635"
   ]
  },
  {
   "cell_type": "code",
   "execution_count": 88,
   "metadata": {},
   "outputs": [
    {
     "data": {
      "text/plain": [
       "-0.0386991869918699"
      ]
     },
     "execution_count": 88,
     "metadata": {},
     "output_type": "execute_result"
    }
   ],
   "source": [
    "( 0.3612 - 0.385 ) / 0.615"
   ]
  },
  {
   "cell_type": "code",
   "execution_count": 96,
   "metadata": {},
   "outputs": [
    {
     "name": "stdout",
     "output_type": "stream",
     "text": [
      "0.4404\n"
     ]
    }
   ],
   "source": [
    "print( analyser.polarity_scores( 'just heard the news <3' )['compound'] )"
   ]
  },
  {
   "cell_type": "code",
   "execution_count": 97,
   "metadata": {},
   "outputs": [],
   "source": [
    "def get_vander_sentiment(sent) : \n",
    "    return analyser.polarity_scores(sent)['compound']"
   ]
  },
  {
   "cell_type": "code",
   "execution_count": 98,
   "metadata": {},
   "outputs": [
    {
     "data": {
      "text/plain": [
       "0.5927"
      ]
     },
     "execution_count": 98,
     "metadata": {},
     "output_type": "execute_result"
    }
   ],
   "source": [
    "get_vander_sentiment( 'this food is pathetic but the hotel is amazing')"
   ]
  },
  {
   "cell_type": "code",
   "execution_count": null,
   "metadata": {},
   "outputs": [],
   "source": []
  }
 ],
 "metadata": {
  "kernelspec": {
   "display_name": "Python 3",
   "language": "python",
   "name": "python3"
  },
  "language_info": {
   "codemirror_mode": {
    "name": "ipython",
    "version": 3
   },
   "file_extension": ".py",
   "mimetype": "text/x-python",
   "name": "python",
   "nbconvert_exporter": "python",
   "pygments_lexer": "ipython3",
   "version": "3.7.3"
  }
 },
 "nbformat": 4,
 "nbformat_minor": 2
}
